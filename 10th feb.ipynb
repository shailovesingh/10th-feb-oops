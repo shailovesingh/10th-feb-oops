{
 "cells": [
  {
   "cell_type": "markdown",
   "id": "f26f9caf-73e7-4960-8961-ca93a4085ac2",
   "metadata": {},
   "source": [
    "Q1.\n",
    "\n",
    "\"Open\" function is used to open a file.\n",
    "\n",
    "There are different types of modes in files :\n",
    "\n",
    "1>  'r'-- this mode is a read mode which is used to read a data inside a particular file. we have to assigned a variable for that and then simply print  that.\n",
    "\n",
    "2>  'w'-- this mode is a write mode which is used to write anything in a file.\n",
    "\n",
    "3>   'a'-- this mode is a append mode in which we will add another data or information inside that particular file.\n",
    "\n",
    "4>   '+'-- this mode is a update mode in which we both read or write."
   ]
  },
  {
   "cell_type": "markdown",
   "id": "1a799f61-2156-4f23-aca3-b006636c4466",
   "metadata": {},
   "source": [
    "Q2.\n",
    "\n",
    "close() function is used to close a file after performing any action.\n",
    "\n",
    "Files should be closed everytime because it will protect against the corrupted data and any other trackings by others. After closing files it will easy to share with others without any virus"
   ]
  },
  {
   "cell_type": "markdown",
   "id": "c0141e3d-2fa0-4063-87ec-999f01d56323",
   "metadata": {},
   "source": [
    "\n",
    "Q3"
   ]
  },
  {
   "cell_type": "code",
   "execution_count": 5,
   "id": "a6c59ba7-2db9-44d7-8f48-a69663642ae4",
   "metadata": {},
   "outputs": [],
   "source": [
    "f = open(\"DS.txt\", 'w')\n",
    "f.write(\"I want to become data scientist\")\n",
    "f.close()"
   ]
  },
  {
   "cell_type": "code",
   "execution_count": 6,
   "id": "08905336-d177-4a49-9cb6-08dbbed40b9d",
   "metadata": {},
   "outputs": [
    {
     "name": "stdout",
     "output_type": "stream",
     "text": [
      "I want to become data scientist\n"
     ]
    }
   ],
   "source": [
    "f = open(\"DS.txt\", 'r')\n",
    "print(f.read())"
   ]
  },
  {
   "cell_type": "markdown",
   "id": "010f3732-3086-4311-9e72-f01c7012f69e",
   "metadata": {},
   "source": [
    "Q4."
   ]
  },
  {
   "cell_type": "code",
   "execution_count": 1,
   "id": "164b5c5f-4742-46a2-bba8-58b8a72293cf",
   "metadata": {},
   "outputs": [],
   "source": [
    "f = open('pyth.txt','w')\n",
    "f.write(\"Data Science Masters course is highly curated and uniquely designed according to the latest industry standards. This program instills students the skills essential to knowledge discovery efforts to identify standard, novel, and truly differentiated solutions and decision-making, including skills in managing, querying, analyzing, visualizing, and extracting meaning from extremely large data sets. This trending program provides students with the statistical, mathematical and computational skills needed to meet the large-scale data science challenges of today's professional world. You will learn all the stack required to work in data science industry including cloud infrastructure and real-time industry projects. This course will be taught in Hindi language.\")\n",
    "f.close()"
   ]
  },
  {
   "cell_type": "markdown",
   "id": "81e26ef1-ba68-4fa2-9c5d-e95775f12383",
   "metadata": {},
   "source": [
    "Read() method is used to read all the data inside a file."
   ]
  },
  {
   "cell_type": "code",
   "execution_count": 2,
   "id": "4a5fe735-15d7-4176-9458-083671a3bfe7",
   "metadata": {},
   "outputs": [
    {
     "name": "stdout",
     "output_type": "stream",
     "text": [
      "Data Science Masters course is highly curated and uniquely designed according to the latest industry standards. This program instills students the skills essential to knowledge discovery efforts to identify standard, novel, and truly differentiated solutions and decision-making, including skills in managing, querying, analyzing, visualizing, and extracting meaning from extremely large data sets. This trending program provides students with the statistical, mathematical and computational skills needed to meet the large-scale data science challenges of today's professional world. You will learn all the stack required to work in data science industry including cloud infrastructure and real-time industry projects. This course will be taught in Hindi language.\n"
     ]
    },
    {
     "data": {
      "text/plain": [
       "<function TextIOWrapper.close()>"
      ]
     },
     "execution_count": 2,
     "metadata": {},
     "output_type": "execute_result"
    }
   ],
   "source": [
    "f = open('pyth.txt','r')\n",
    "print(f.read())\n",
    "f.close"
   ]
  },
  {
   "cell_type": "markdown",
   "id": "b027fc02-bfd1-4058-9898-390c65a80a4f",
   "metadata": {},
   "source": [
    "Readline() is used to read single line from a file and if we print again then it printed next line and also we can also specify no. of bytes so the line will read up to that."
   ]
  },
  {
   "cell_type": "code",
   "execution_count": 4,
   "id": "242b0ceb-58cc-4f5a-a341-79415949672c",
   "metadata": {},
   "outputs": [
    {
     "name": "stdout",
     "output_type": "stream",
     "text": [
      "Data Science Masters course is highly curated and uniquely designed according to the latest industry standards. This program instills students the skills essential to knowledge discovery efforts to identify standard, novel, and truly differentiated solutions and decision-making, including skills in managing, querying, analyzing, visualizing, and extracting meaning from extremely large data sets. This trending program provides students with the statistical, mathematical and computational skills needed to meet the large-scale data science challenges of today's professional world. You will learn all the stack required to work in data science industry including cloud infrastructure and real-time industry projects. This course will be taught in Hindi language.\n",
      "\n",
      "\n"
     ]
    }
   ],
   "source": [
    "f = open(\"pyth.txt\",'r')\n",
    "print(f.readline())\n",
    "print(f.readline())\n",
    "print(f.readline(50))\n",
    "f.close()"
   ]
  },
  {
   "cell_type": "markdown",
   "id": "60554eaa-7e0c-44b2-a44a-afda20353985",
   "metadata": {},
   "source": [
    "Readlines() is used to read all lines in a file. This method reads all the lines but in a list."
   ]
  },
  {
   "cell_type": "code",
   "execution_count": 5,
   "id": "0606b3bc-7204-4993-9573-d9a38a5257fe",
   "metadata": {},
   "outputs": [
    {
     "name": "stdout",
     "output_type": "stream",
     "text": [
      "[\"Data Science Masters course is highly curated and uniquely designed according to the latest industry standards. This program instills students the skills essential to knowledge discovery efforts to identify standard, novel, and truly differentiated solutions and decision-making, including skills in managing, querying, analyzing, visualizing, and extracting meaning from extremely large data sets. This trending program provides students with the statistical, mathematical and computational skills needed to meet the large-scale data science challenges of today's professional world. You will learn all the stack required to work in data science industry including cloud infrastructure and real-time industry projects. This course will be taught in Hindi language.\"]\n",
      "Data Science Masters course is highly curated and uniquely designed according to the latest industry standards. This program instills students the skills essential to knowledge discovery efforts to identify standard, novel, and truly differentiated solutions and decision-making, including skills in managing, querying, analyzing, visualizing, and extracting meaning from extremely large data sets. This trending program provides students with the statistical, mathematical and computational skills needed to meet the large-scale data science challenges of today's professional world. You will learn all the stack required to work in data science industry including cloud infrastructure and real-time industry projects. This course will be taught in Hindi language.\n"
     ]
    }
   ],
   "source": [
    "f = open(\"pyth.txt\",'r')\n",
    "data = (f.readlines())\n",
    "print(data)\n",
    "for line in data:\n",
    "    print(line)\n",
    "f.close()"
   ]
  },
  {
   "cell_type": "markdown",
   "id": "b73193bb-3fe9-4b08-9e36-a6a3c8e6d28f",
   "metadata": {},
   "source": [
    "Q5.\n",
    "\n",
    "With statement is a another way to open a file. This way is mostly used due to following advatage:\n",
    "\n",
    "using 'with' statement with open() function is more efficient than normal way because here we don't write a close() function. Here using'with' statement close() function automatically calls and close the file. Sometimes we forgot to close a file but if we go \"with\" statement then it will be more effective for us."
   ]
  },
  {
   "cell_type": "markdown",
   "id": "23e12502-86a4-470c-8fbf-4cde91da8809",
   "metadata": {},
   "source": [
    "Q6.\n",
    "\n",
    "\n",
    "write() function is used to write a data inside a file in a write mode. suppose if data is already exist in a file then exsisting data overwrites with new data."
   ]
  },
  {
   "cell_type": "code",
   "execution_count": 6,
   "id": "2e1f1932-2808-4ddd-8f18-d5db7e3e56a2",
   "metadata": {},
   "outputs": [
    {
     "name": "stdout",
     "output_type": "stream",
     "text": [
      "Hello world\n"
     ]
    }
   ],
   "source": [
    "with open(\"pyth2.txt\",'w') as f:\n",
    "    print(\"Hello world\")"
   ]
  },
  {
   "cell_type": "markdown",
   "id": "33252123-99b8-4a44-ae15-8145256c7ca4",
   "metadata": {},
   "source": [
    "writelines() method is used to write a group of lines of strings into a file. Group of strings are stored in a list,tuple or set"
   ]
  },
  {
   "cell_type": "code",
   "execution_count": 7,
   "id": "e535e130-7256-4fea-87bc-16ede2cac8a1",
   "metadata": {},
   "outputs": [],
   "source": [
    "with open(\"pyth3.txt\",'w') as f:\n",
    "    lines_list = (\"Create your assignment in Jupyter notebook and upload it to GitHub & share that GitHub repositor link through your dashboard. Make sure the repository is public.\")\n",
    "    f.writelines(lines_list)"
   ]
  },
  {
   "cell_type": "code",
   "execution_count": 9,
   "id": "4b9bbbd2-76c5-44dd-af1f-11815ccc5657",
   "metadata": {},
   "outputs": [
    {
     "name": "stdout",
     "output_type": "stream",
     "text": [
      "Create your assignment in Jupyter notebook and upload it to GitHub & share that GitHub repositor link through your dashboard. Make sure the repository is public.\n"
     ]
    }
   ],
   "source": [
    "with open(\"pyth3.txt\",'r') as f:\n",
    "    data = f.read()\n",
    "    print(data)"
   ]
  },
  {
   "cell_type": "code",
   "execution_count": null,
   "id": "03713c8a-1fd3-4e74-abfe-5e74f308a7be",
   "metadata": {},
   "outputs": [],
   "source": []
  }
 ],
 "metadata": {
  "kernelspec": {
   "display_name": "Python 3 (ipykernel)",
   "language": "python",
   "name": "python3"
  },
  "language_info": {
   "codemirror_mode": {
    "name": "ipython",
    "version": 3
   },
   "file_extension": ".py",
   "mimetype": "text/x-python",
   "name": "python",
   "nbconvert_exporter": "python",
   "pygments_lexer": "ipython3",
   "version": "3.10.8"
  }
 },
 "nbformat": 4,
 "nbformat_minor": 5
}
